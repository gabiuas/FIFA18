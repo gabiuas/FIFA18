{
 "cells": [
  {
   "cell_type": "code",
   "execution_count": 543,
   "metadata": {},
   "outputs": [
    {
     "name": "stdout",
     "output_type": "stream",
     "text": [
      "Esperamos trabalhar no diretório\n",
      "/Users/gabiuas/Ciencia dos Dados/Projeto 3 Cidados\n"
     ]
    }
   ],
   "source": [
    "%matplotlib inline\n",
    "import pandas as pd\n",
    "import matplotlib.pyplot as plt\n",
    "import numpy as np\n",
    "import os\n",
    "import matplotlib.pyplot as plt\n",
    "import pandas as pd\n",
    "import numpy as np\n",
    "from scipy import stats\n",
    "import re\n",
    "print('Esperamos trabalhar no diretório')\n",
    "print(os.getcwd())"
   ]
  },
  {
   "cell_type": "code",
   "execution_count": 544,
   "metadata": {},
   "outputs": [
    {
     "name": "stderr",
     "output_type": "stream",
     "text": [
      "/Users/gabiuas/anaconda/lib/python3.6/site-packages/IPython/core/interactiveshell.py:2717: DtypeWarning: Columns (23,35) have mixed types. Specify dtype option on import or set low_memory=False.\n",
      "  interactivity=interactivity, compiler=compiler, result=result)\n",
      "/Users/gabiuas/anaconda/lib/python3.6/site-packages/IPython/core/interactiveshell.py:2717: DtypeWarning: Columns (11,24) have mixed types. Specify dtype option on import or set low_memory=False.\n",
      "  interactivity=interactivity, compiler=compiler, result=result)\n"
     ]
    }
   ],
   "source": [
    "#Complete\n",
    "complete = pd.read_csv('CompleteDataset.csv',sep=',')\n",
    "#Complete\n",
    "atribute = pd.read_csv('PlayerAttributeData.csv',sep=',')\n",
    "#Complete\n",
    "personal = pd.read_csv('PlayerPersonalData.csv',sep=',')\n",
    "#Complete\n",
    "position = pd.read_csv('PlayerPlayingPositionData.csv',sep=',')"
   ]
  },
  {
   "cell_type": "code",
   "execution_count": 545,
   "metadata": {},
   "outputs": [],
   "source": [
    "#list(complete)"
   ]
  },
  {
   "cell_type": "code",
   "execution_count": 546,
   "metadata": {},
   "outputs": [],
   "source": [
    "eu= pd.DataFrame({\"Name\":complete.Name})"
   ]
  },
  {
   "cell_type": "code",
   "execution_count": 547,
   "metadata": {},
   "outputs": [],
   "source": [
    "eu[\"Preferred Positions\"] = complete[\"Preferred Positions\"]\n",
    "eu[\"Long shots\"] = complete[\"Long shots\"]\n",
    "eu[\"Finishing\"] = complete[\"Finishing\"]\n",
    "eu[\"Short passing\"] = complete[\"Short passing\"]\n",
    "eu[\"Ball control\"] = complete[\"Ball control\"]\n",
    "eu[\"Dribbling\"] = complete[\"Dribbling\"]\n",
    "eu[\"Long passing\"] = complete[\"Long passing\"]\n",
    "eu[\"Interceptions\"] = complete[\"Interceptions\"]\n",
    "eu[\"Marking\"] = complete[\"Marking\"]\n",
    "eu[\"Standing tackle\"] = complete[\"Standing tackle\"]\n",
    "eu[\"Sliding tackle\"] = complete[\"Sliding tackle\"]"
   ]
  },
  {
   "cell_type": "code",
   "execution_count": 548,
   "metadata": {
    "collapsed": true
   },
   "outputs": [],
   "source": [
    "eu = eu.fillna(0)  "
   ]
  },
  {
   "cell_type": "code",
   "execution_count": 550,
   "metadata": {},
   "outputs": [],
   "source": [
    "A=[]\n",
    "B=[]\n",
    "C=[]\n",
    "D=[]\n",
    "E=[]\n",
    "F=[]\n",
    "G=[]\n",
    "H=[]\n",
    "I=[]\n",
    "J=[]\n",
    "\n",
    "a=len(eu[\"Name\"])\n",
    "\n",
    "for e in range(a):\n",
    "    A.append((sum(int(x) for x in re.findall(r'[0-9]+', eu[\"Long shots\"][e]))))\n",
    "    B.append((sum(int(x) for x in re.findall(r'[0-9]+', eu[\"Finishing\"][e]))))\n",
    "    C.append((sum(int(x) for x in re.findall(r'[0-9]+', eu[\"Short passing\"][e]))))\n",
    "    D.append((sum(int(x) for x in re.findall(r'[0-9]+', eu[\"Ball control\"][e]))))\n",
    "    E.append((sum(int(x) for x in re.findall(r'[0-9]+', eu[\"Dribbling\"][e]))))\n",
    "    F.append((sum(int(x) for x in re.findall(r'[0-9]+', eu[\"Long passing\"][e]))))\n",
    "    G.append((sum(int(x) for x in re.findall(r'[0-9]+', eu[\"Interceptions\"][e]))))\n",
    "    H.append((sum(int(x) for x in re.findall(r'[0-9]+', eu[\"Marking\"][e]))))\n",
    "    I.append((sum(int(x) for x in re.findall(r'[0-9]+', eu[\"Standing tackle\"][e]))))\n",
    "    J.append((sum(int(x) for x in re.findall(r'[0-9]+', eu[\"Sliding tackle\"][e]))))\n",
    "    \n",
    "    \n",
    "eu[\"Long shots\"] = pd.Series(A)\n",
    "eu[\"Finishing\"] = pd.Series(B)\n",
    "eu[\"Short passing\"] = pd.Series(C)\n",
    "eu[\"Ball control\"] = pd.Series(D)\n",
    "eu[\"Dribbling\"] = pd.Series(E)\n",
    "eu[\"Long passing\"] = pd.Series(F)\n",
    "eu[\"Interceptions\"] = pd.Series(G)\n",
    "eu[\"Marking\"] = pd.Series(H)\n",
    "eu[\"Standing tackle\"] = pd.Series(I)\n",
    "eu[\"Sliding tackle\"] = pd.Series(J)"
   ]
  },
  {
   "cell_type": "code",
   "execution_count": 554,
   "metadata": {},
   "outputs": [],
   "source": [
    "ataque=[]\n",
    "for e in range(a):\n",
    "    ataq=((eu[\"Long shots\"][e]+eu[\"Finishing\"][e]+eu[\"Short passing\"][e]+eu[\"Ball control\"][e]+eu[\"Dribbling\"][e]+eu[\"Long passing\"][e])/6)\n",
    "    ataque.append(ataq)\n"
   ]
  },
  {
   "cell_type": "code",
   "execution_count": 555,
   "metadata": {},
   "outputs": [],
   "source": [
    "defesa=[]\n",
    "for e in range(a):\n",
    "    defe=((eu[\"Interceptions\"][e]+eu[\"Marking\"][e]+eu[\"Standing tackle\"][e]+eu[\"Sliding tackle\"][e])/4)\n",
    "    defesa.append(defe)\n"
   ]
  },
  {
   "cell_type": "code",
   "execution_count": 556,
   "metadata": {
    "collapsed": true
   },
   "outputs": [],
   "source": [
    "eu[\"ATAQUE\"] = pd.Series(ataque)\n",
    "eu[\"DEFESA\"] = pd.Series(defesa)"
   ]
  },
  {
   "cell_type": "code",
   "execution_count": 565,
   "metadata": {},
   "outputs": [
    {
     "data": {
      "text/html": [
       "<div>\n",
       "<table border=\"1\" class=\"dataframe\">\n",
       "  <thead>\n",
       "    <tr style=\"text-align: right;\">\n",
       "      <th></th>\n",
       "      <th>Name</th>\n",
       "      <th>Preferred Positions</th>\n",
       "      <th>Long shots</th>\n",
       "      <th>Finishing</th>\n",
       "      <th>Short passing</th>\n",
       "      <th>Ball control</th>\n",
       "      <th>Dribbling</th>\n",
       "      <th>Long passing</th>\n",
       "      <th>Interceptions</th>\n",
       "      <th>Marking</th>\n",
       "      <th>Standing tackle</th>\n",
       "      <th>Sliding tackle</th>\n",
       "      <th>ATAQUE</th>\n",
       "      <th>DEFESA</th>\n",
       "    </tr>\n",
       "  </thead>\n",
       "  <tbody>\n",
       "    <tr>\n",
       "      <th>0</th>\n",
       "      <td>Cristiano Ronaldo</td>\n",
       "      <td>ST LW</td>\n",
       "      <td>92</td>\n",
       "      <td>94</td>\n",
       "      <td>83</td>\n",
       "      <td>93</td>\n",
       "      <td>91</td>\n",
       "      <td>77</td>\n",
       "      <td>29</td>\n",
       "      <td>22</td>\n",
       "      <td>31</td>\n",
       "      <td>23</td>\n",
       "      <td>88.333333</td>\n",
       "      <td>26.25</td>\n",
       "    </tr>\n",
       "    <tr>\n",
       "      <th>1</th>\n",
       "      <td>L. Messi</td>\n",
       "      <td>RW</td>\n",
       "      <td>88</td>\n",
       "      <td>95</td>\n",
       "      <td>88</td>\n",
       "      <td>95</td>\n",
       "      <td>97</td>\n",
       "      <td>87</td>\n",
       "      <td>22</td>\n",
       "      <td>13</td>\n",
       "      <td>28</td>\n",
       "      <td>26</td>\n",
       "      <td>91.666667</td>\n",
       "      <td>22.25</td>\n",
       "    </tr>\n",
       "  </tbody>\n",
       "</table>\n",
       "</div>"
      ],
      "text/plain": [
       "                Name Preferred Positions  Long shots  Finishing  \\\n",
       "0  Cristiano Ronaldo              ST LW           92         94   \n",
       "1           L. Messi                 RW           88         95   \n",
       "\n",
       "   Short passing  Ball control  Dribbling  Long passing  Interceptions  \\\n",
       "0             83            93         91            77             29   \n",
       "1             88            95         97            87             22   \n",
       "\n",
       "   Marking  Standing tackle  Sliding tackle     ATAQUE  DEFESA  \n",
       "0       22               31              23  88.333333   26.25  \n",
       "1       13               28              26  91.666667   22.25  "
      ]
     },
     "execution_count": 565,
     "metadata": {},
     "output_type": "execute_result"
    }
   ],
   "source": [
    "eu.head(2)"
   ]
  },
  {
   "cell_type": "code",
   "execution_count": 569,
   "metadata": {},
   "outputs": [],
   "source": [
    "#Algoritmo\n",
    "#f1 = eu[(eu['Preferred Positions']!='GK ')].DEFESA\n",
    "#f2 = eu[(eu['Preferred Positions']!='GK ')].ATAQUE\n",
    "f1=eu.DEFESA\n",
    "f2=eu.ATAQUE"
   ]
  },
  {
   "cell_type": "code",
   "execution_count": 570,
   "metadata": {},
   "outputs": [
    {
     "data": {
      "image/png": "[encoded data removed]",
      "text/plain": [
       "<matplotlib.figure.Figure at 0x11f6b5e10>"
      ]
     },
     "metadata": {},
     "output_type": "display_data"
    }
   ],
   "source": [
    "import pandas as pd\n",
    "import numpy as np\n",
    "import matplotlib.pyplot as plt\n",
    "%matplotlib inline\n",
    "\n",
    "\n",
    "c1x=[]\n",
    "c1y=[]\n",
    "c2x=[]\n",
    "c2y=[]\n",
    "\n",
    "for i in range (20):\n",
    "    centroid1x=[np.random.randint(0, 100)]\n",
    "    centroid1y=[np.random.randint(0, 100)]\n",
    "    centroid2x=[np.random.randint(0, 100)]\n",
    "    centroid2y=[np.random.randint(0, 100)]\n",
    "    c1x.append(centroid1x)\n",
    "    c1y.append(centroid1y)\n",
    "    c2x.append(centroid2x)\n",
    "    c2y.append(centroid2y)\n",
    "\n",
    "centroid1x=np.mean(c1x)\n",
    "centroid1y=np.mean(c1y)\n",
    "centroid2x=np.mean(c2x)\n",
    "centroid2y=np.mean(c2y)\n",
    "\n",
    "    \n",
    "fig = plt.figure(figsize=(5, 5))\n",
    "plt.scatter(f1, f2, color='k')\n",
    "\n",
    "plt.scatter(centroid1x,centroid1y)\n",
    "plt.scatter(centroid2x,centroid2y)\n",
    "plt.xlim(0, 100)\n",
    "plt.ylim (0, 100)\n",
    "plt.show()"
   ]
  },
  {
   "cell_type": "code",
   "execution_count": null,
   "metadata": {
    "collapsed": true
   },
   "outputs": [],
   "source": []
  },
  {
   "cell_type": "code",
   "execution_count": null,
   "metadata": {
    "collapsed": true
   },
   "outputs": [],
   "source": []
  }
 ],
 "metadata": {
  "kernelspec": {
   "display_name": "Python 3",
   "language": "python",
   "name": "python3"
  },
  "language_info": {
   "codemirror_mode": {
    "name": "ipython",
    "version": 3
   },
   "file_extension": ".py",
   "mimetype": "text/x-python",
   "name": "python",
   "nbconvert_exporter": "python",
   "pygments_lexer": "ipython3",
   "version": "3.6.0"
  }
 },
 "nbformat": 4,
 "nbformat_minor": 2
}
