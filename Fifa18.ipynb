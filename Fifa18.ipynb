{
 "cells": [
  {
   "cell_type": "code",
   "execution_count": 440,
   "metadata": {},
   "outputs": [
    {
     "name": "stdout",
     "output_type": "stream",
     "text": [
      "Esperamos trabalhar no diretório\n",
      "/Users/gabiuas/Ciencia dos Dados/Projeto 3 Cidados\n"
     ]
    }
   ],
   "source": [
    "%matplotlib inline\n",
    "import pandas as pd\n",
    "import matplotlib.pyplot as plt\n",
    "import numpy as np\n",
    "import os\n",
    "import matplotlib.pyplot as plt\n",
    "import pandas as pd\n",
    "import numpy as np\n",
    "from scipy import stats\n",
    "import re\n",
    "print('Esperamos trabalhar no diretório')\n",
    "print(os.getcwd())"
   ]
  },
  {
   "cell_type": "code",
   "execution_count": 475,
   "metadata": {},
   "outputs": [
    {
     "name": "stderr",
     "output_type": "stream",
     "text": [
      "/Users/gabiuas/anaconda/lib/python3.6/site-packages/IPython/core/interactiveshell.py:2717: DtypeWarning: Columns (23,35) have mixed types. Specify dtype option on import or set low_memory=False.\n",
      "  interactivity=interactivity, compiler=compiler, result=result)\n",
      "/Users/gabiuas/anaconda/lib/python3.6/site-packages/IPython/core/interactiveshell.py:2717: DtypeWarning: Columns (11,24) have mixed types. Specify dtype option on import or set low_memory=False.\n",
      "  interactivity=interactivity, compiler=compiler, result=result)\n"
     ]
    }
   ],
   "source": [
    "#Complete\n",
    "complete = pd.read_csv('CompleteDataset.csv',sep=',')\n",
    "#Complete\n",
    "atribute = pd.read_csv('PlayerAttributeData.csv',sep=',')\n",
    "#Complete\n",
    "personal = pd.read_csv('PlayerPersonalData.csv',sep=',')\n",
    "#Complete\n",
    "position = pd.read_csv('PlayerPlayingPositionData.csv',sep=',')"
   ]
  },
  {
   "cell_type": "code",
   "execution_count": 738,
   "metadata": {},
   "outputs": [],
   "source": [
    "#list(complete)\n",
    "#complete[(complete.Nationality=='Brazil')].head(200)"
   ]
  },
  {
   "cell_type": "code",
   "execution_count": 739,
   "metadata": {
    "collapsed": true
   },
   "outputs": [],
   "source": [
    "eu= pd.DataFrame({\"Name\":complete.Name})"
   ]
  },
  {
   "cell_type": "code",
   "execution_count": 740,
   "metadata": {
    "collapsed": true
   },
   "outputs": [],
   "source": [
    "eu[\"Overall\"] = complete[\"Overall\"]\n",
    "eu[\"Nationality\"] = complete[\"Nationality\"]\n",
    "eu[\"Club\"] = complete[\"Club\"]\n",
    "eu[\"Preferred Positions\"] = complete[\"Preferred Positions\"]\n",
    "eu[\"Long shots\"] = complete[\"Long shots\"]\n",
    "eu[\"Finishing\"] = complete[\"Finishing\"]\n",
    "eu[\"Short passing\"] = complete[\"Short passing\"]\n",
    "eu[\"Ball control\"] = complete[\"Ball control\"]\n",
    "eu[\"Dribbling\"] = complete[\"Dribbling\"]\n",
    "eu[\"Long passing\"] = complete[\"Long passing\"]\n",
    "eu[\"Interceptions\"] = complete[\"Interceptions\"]\n",
    "eu[\"Marking\"] = complete[\"Marking\"]\n",
    "eu[\"Standing tackle\"] = complete[\"Standing tackle\"]\n",
    "eu[\"Sliding tackle\"] = complete[\"Sliding tackle\"]\n",
    "eu[\"Strength\"] = complete[\"Strength\"]\n",
    "eu[\"Positioning\"] = complete[\"Volleys\"]"
   ]
  },
  {
   "cell_type": "code",
   "execution_count": 741,
   "metadata": {
    "collapsed": true
   },
   "outputs": [],
   "source": [
    "eu = eu.fillna(0)  "
   ]
  },
  {
   "cell_type": "code",
   "execution_count": 742,
   "metadata": {},
   "outputs": [],
   "source": [
    "A=[]\n",
    "B=[]\n",
    "C=[]\n",
    "D=[]\n",
    "E=[]\n",
    "F=[]\n",
    "G=[]\n",
    "H=[]\n",
    "I=[]\n",
    "J=[]\n",
    "K=[]\n",
    "L=[]\n",
    "\n",
    "a=len(eu[\"Name\"])\n",
    "\n",
    "for e in range(a):\n",
    "    A.append((sum(int(x) for x in re.findall(r'[0-9]+', eu[\"Long shots\"][e]))))\n",
    "    B.append((sum(int(x) for x in re.findall(r'[0-9]+', eu[\"Finishing\"][e]))))\n",
    "    C.append((sum(int(x) for x in re.findall(r'[0-9]+', eu[\"Short passing\"][e]))))\n",
    "    D.append((sum(int(x) for x in re.findall(r'[0-9]+', eu[\"Ball control\"][e]))))\n",
    "    E.append((sum(int(x) for x in re.findall(r'[0-9]+', eu[\"Dribbling\"][e]))))\n",
    "    F.append((sum(int(x) for x in re.findall(r'[0-9]+', eu[\"Long passing\"][e]))))\n",
    "    G.append((sum(int(x) for x in re.findall(r'[0-9]+', eu[\"Interceptions\"][e]))))\n",
    "    H.append((sum(int(x) for x in re.findall(r'[0-9]+', eu[\"Marking\"][e]))))\n",
    "    I.append((sum(int(x) for x in re.findall(r'[0-9]+', eu[\"Standing tackle\"][e]))))\n",
    "    J.append((sum(int(x) for x in re.findall(r'[0-9]+', eu[\"Sliding tackle\"][e]))))\n",
    "    K.append((sum(int(x) for x in re.findall(r'[0-9]+', eu[\"Strength\"][e]))))\n",
    "    L.append((sum(int(x) for x in re.findall(r'[0-9]+', eu[\"Positioning\"][e]))))\n",
    "    \n",
    "    \n",
    "eu[\"Long shots\"] = pd.Series(A)\n",
    "eu[\"Finishing\"] = pd.Series(B)\n",
    "eu[\"Short passing\"] = pd.Series(C)\n",
    "eu[\"Ball control\"] = pd.Series(D)\n",
    "eu[\"Dribbling\"] = pd.Series(E)\n",
    "eu[\"Long passing\"] = pd.Series(F)\n",
    "eu[\"Interceptions\"] = pd.Series(G)\n",
    "eu[\"Marking\"] = pd.Series(H)\n",
    "eu[\"Standing tackle\"] = pd.Series(I)\n",
    "eu[\"Sliding tackle\"] = pd.Series(J)\n",
    "eu[\"Strength\"] = pd.Series(K)\n",
    "eu[\"Positioning\"] = pd.Series(L)"
   ]
  },
  {
   "cell_type": "code",
   "execution_count": 743,
   "metadata": {},
   "outputs": [],
   "source": [
    "ataque=[]\n",
    "for e in range(a):\n",
    "    ataq=((eu[\"Long shots\"][e]+eu[\"Finishing\"][e]+eu[\"Short passing\"][e]+eu[\"Ball control\"][e]+eu[\"Dribbling\"][e]+eu[\"Long passing\"][e]+eu[\"Positioning\"][e])/7)\n",
    "    ataque.append(ataq)\n"
   ]
  },
  {
   "cell_type": "code",
   "execution_count": 744,
   "metadata": {},
   "outputs": [],
   "source": [
    "defesa=[]\n",
    "for e in range(a):\n",
    "    defe=((eu[\"Interceptions\"][e]+eu[\"Marking\"][e]+eu[\"Standing tackle\"][e]+eu[\"Sliding tackle\"][e])/4)\n",
    "    defesa.append(defe)\n"
   ]
  },
  {
   "cell_type": "code",
   "execution_count": 749,
   "metadata": {
    "collapsed": true
   },
   "outputs": [],
   "source": [
    "eu[\"ATAQUE\"] = pd.Series(ataque)\n",
    "eu[\"DEFESA\"] = pd.Series(defesa)"
   ]
  },
  {
   "cell_type": "code",
   "execution_count": 750,
   "metadata": {},
   "outputs": [],
   "source": [
    "JoA=[]\n",
    "JoD=[]\n",
    "#for e in range(a):\n",
    "   # JoA.append(eu[\"ATAQUE\"][e])\n",
    "    #JoD.append(eu[\"DEFESA\"][e])\n",
    "\n",
    "\n",
    "for e in range(a):\n",
    "    if \"RAM\" in eu['Preferred Positions'][e]:\n",
    "        JoA.append(eu[\"ATAQUE\"][e])\n",
    "        JoD.append(eu[\"DEFESA\"][e])\n",
    "    elif \"CAM\" in eu['Preferred Positions'][e]:\n",
    "        JoA.append(eu[\"ATAQUE\"][e])\n",
    "        JoD.append(eu[\"DEFESA\"][e])\n",
    "    elif \"LAM\" in eu['Preferred Positions'][e]:\n",
    "        JoA.append(eu[\"ATAQUE\"][e])\n",
    "        JoD.append(eu[\"DEFESA\"][e])\n",
    "    elif \"RCM\" in eu['Preferred Positions'][e]:\n",
    "        JoA.append(eu[\"ATAQUE\"][e])\n",
    "        JoD.append(eu[\"DEFESA\"][e])\n",
    "    elif \"CM\" in eu['Preferred Positions'][e]:\n",
    "        JoA.append(eu[\"ATAQUE\"][e])\n",
    "        JoD.append(eu[\"DEFESA\"][e])\n",
    "    elif \"LCM\" in eu['Preferred Positions'][e]:\n",
    "        JoA.append(eu[\"ATAQUE\"][e])\n",
    "        JoD.append(eu[\"DEFESA\"][e])\n",
    "    elif \"RM\" in eu['Preferred Positions'][e]:\n",
    "        JoA.append(eu[\"ATAQUE\"][e])\n",
    "        JoD.append(eu[\"DEFESA\"][e])\n",
    "    elif \"LM\" in eu['Preferred Positions'][e]:\n",
    "        JoA.append(eu[\"ATAQUE\"][e])\n",
    "        JoD.append(eu[\"DEFESA\"][e])\n",
    "    elif \"RDM\" in eu['Preferred Positions'][e]:\n",
    "        JoA.append(eu[\"ATAQUE\"][e])\n",
    "        JoD.append(eu[\"DEFESA\"][e])\n",
    "    elif \"CDM\" in eu['Preferred Positions'][e]:\n",
    "        JoA.append(eu[\"ATAQUE\"][e])\n",
    "        JoD.append(eu[\"DEFESA\"][e])\n",
    "    elif \"LDM\" in eu['Preferred Positions'][e]:\n",
    "        JoA.append(eu[\"ATAQUE\"][e])\n",
    "        JoD.append(eu[\"DEFESA\"][e])\n",
    "        \n"
   ]
  },
  {
   "cell_type": "code",
   "execution_count": 751,
   "metadata": {
    "scrolled": false
   },
   "outputs": [],
   "source": [
    "from sklearn.cluster import KMeans\n",
    "eu.head()\n",
    "times=[]\n",
    "for e in range(a):\n",
    "    if eu[\"Club\"][e] not in times:\n",
    "        times.append(eu[\"Club\"][e])\n",
    "        \n",
    "#print(times)"
   ]
  },
  {
   "cell_type": "code",
   "execution_count": 752,
   "metadata": {},
   "outputs": [
    {
     "data": {
      "text/html": [
       "<div>\n",
       "<table border=\"1\" class=\"dataframe\">\n",
       "  <thead>\n",
       "    <tr style=\"text-align: right;\">\n",
       "      <th></th>\n",
       "      <th>Name</th>\n",
       "      <th>Overall</th>\n",
       "      <th>Nationality</th>\n",
       "      <th>Club</th>\n",
       "      <th>Preferred Positions</th>\n",
       "      <th>Long shots</th>\n",
       "      <th>Finishing</th>\n",
       "      <th>Short passing</th>\n",
       "      <th>Ball control</th>\n",
       "      <th>Dribbling</th>\n",
       "      <th>Long passing</th>\n",
       "      <th>Interceptions</th>\n",
       "      <th>Marking</th>\n",
       "      <th>Standing tackle</th>\n",
       "      <th>Sliding tackle</th>\n",
       "      <th>Strength</th>\n",
       "      <th>Positioning</th>\n",
       "      <th>ATAQUE</th>\n",
       "      <th>DEFESA</th>\n",
       "    </tr>\n",
       "  </thead>\n",
       "  <tbody>\n",
       "    <tr>\n",
       "      <th>0</th>\n",
       "      <td>Cristiano Ronaldo</td>\n",
       "      <td>94</td>\n",
       "      <td>Portugal</td>\n",
       "      <td>Real Madrid CF</td>\n",
       "      <td>ST LW</td>\n",
       "      <td>92</td>\n",
       "      <td>94</td>\n",
       "      <td>83</td>\n",
       "      <td>93</td>\n",
       "      <td>91</td>\n",
       "      <td>77</td>\n",
       "      <td>29</td>\n",
       "      <td>22</td>\n",
       "      <td>31</td>\n",
       "      <td>23</td>\n",
       "      <td>80</td>\n",
       "      <td>88</td>\n",
       "      <td>88.285714</td>\n",
       "      <td>26.25</td>\n",
       "    </tr>\n",
       "    <tr>\n",
       "      <th>1</th>\n",
       "      <td>L. Messi</td>\n",
       "      <td>93</td>\n",
       "      <td>Argentina</td>\n",
       "      <td>FC Barcelona</td>\n",
       "      <td>RW</td>\n",
       "      <td>88</td>\n",
       "      <td>95</td>\n",
       "      <td>88</td>\n",
       "      <td>95</td>\n",
       "      <td>97</td>\n",
       "      <td>87</td>\n",
       "      <td>22</td>\n",
       "      <td>13</td>\n",
       "      <td>28</td>\n",
       "      <td>26</td>\n",
       "      <td>59</td>\n",
       "      <td>85</td>\n",
       "      <td>90.714286</td>\n",
       "      <td>22.25</td>\n",
       "    </tr>\n",
       "    <tr>\n",
       "      <th>2</th>\n",
       "      <td>Neymar</td>\n",
       "      <td>92</td>\n",
       "      <td>Brazil</td>\n",
       "      <td>Paris Saint-Germain</td>\n",
       "      <td>LW</td>\n",
       "      <td>77</td>\n",
       "      <td>89</td>\n",
       "      <td>81</td>\n",
       "      <td>95</td>\n",
       "      <td>96</td>\n",
       "      <td>75</td>\n",
       "      <td>36</td>\n",
       "      <td>21</td>\n",
       "      <td>24</td>\n",
       "      <td>33</td>\n",
       "      <td>53</td>\n",
       "      <td>83</td>\n",
       "      <td>85.142857</td>\n",
       "      <td>28.50</td>\n",
       "    </tr>\n",
       "    <tr>\n",
       "      <th>3</th>\n",
       "      <td>L. Suárez</td>\n",
       "      <td>92</td>\n",
       "      <td>Uruguay</td>\n",
       "      <td>FC Barcelona</td>\n",
       "      <td>ST</td>\n",
       "      <td>86</td>\n",
       "      <td>94</td>\n",
       "      <td>83</td>\n",
       "      <td>91</td>\n",
       "      <td>86</td>\n",
       "      <td>64</td>\n",
       "      <td>41</td>\n",
       "      <td>30</td>\n",
       "      <td>45</td>\n",
       "      <td>38</td>\n",
       "      <td>80</td>\n",
       "      <td>88</td>\n",
       "      <td>84.571429</td>\n",
       "      <td>38.50</td>\n",
       "    </tr>\n",
       "    <tr>\n",
       "      <th>4</th>\n",
       "      <td>M. Neuer</td>\n",
       "      <td>92</td>\n",
       "      <td>Germany</td>\n",
       "      <td>FC Bayern Munich</td>\n",
       "      <td>GK</td>\n",
       "      <td>16</td>\n",
       "      <td>13</td>\n",
       "      <td>55</td>\n",
       "      <td>48</td>\n",
       "      <td>30</td>\n",
       "      <td>59</td>\n",
       "      <td>30</td>\n",
       "      <td>10</td>\n",
       "      <td>10</td>\n",
       "      <td>11</td>\n",
       "      <td>83</td>\n",
       "      <td>11</td>\n",
       "      <td>33.142857</td>\n",
       "      <td>15.25</td>\n",
       "    </tr>\n",
       "  </tbody>\n",
       "</table>\n",
       "</div>"
      ],
      "text/plain": [
       "                Name  Overall Nationality                 Club  \\\n",
       "0  Cristiano Ronaldo       94    Portugal       Real Madrid CF   \n",
       "1           L. Messi       93   Argentina         FC Barcelona   \n",
       "2             Neymar       92      Brazil  Paris Saint-Germain   \n",
       "3          L. Suárez       92     Uruguay         FC Barcelona   \n",
       "4           M. Neuer       92     Germany     FC Bayern Munich   \n",
       "\n",
       "  Preferred Positions  Long shots  Finishing  Short passing  Ball control  \\\n",
       "0              ST LW           92         94             83            93   \n",
       "1                 RW           88         95             88            95   \n",
       "2                 LW           77         89             81            95   \n",
       "3                 ST           86         94             83            91   \n",
       "4                 GK           16         13             55            48   \n",
       "\n",
       "   Dribbling  Long passing  Interceptions  Marking  Standing tackle  \\\n",
       "0         91            77             29       22               31   \n",
       "1         97            87             22       13               28   \n",
       "2         96            75             36       21               24   \n",
       "3         86            64             41       30               45   \n",
       "4         30            59             30       10               10   \n",
       "\n",
       "   Sliding tackle  Strength  Positioning     ATAQUE  DEFESA  \n",
       "0              23        80           88  88.285714   26.25  \n",
       "1              26        59           85  90.714286   22.25  \n",
       "2              33        53           83  85.142857   28.50  \n",
       "3              38        80           88  84.571429   38.50  \n",
       "4              11        83           11  33.142857   15.25  "
      ]
     },
     "execution_count": 752,
     "metadata": {},
     "output_type": "execute_result"
    }
   ],
   "source": [
    "eu.head()"
   ]
  },
  {
   "cell_type": "code",
   "execution_count": 753,
   "metadata": {},
   "outputs": [
    {
     "data": {
      "text/html": [
       "<div>\n",
       "<table border=\"1\" class=\"dataframe\">\n",
       "  <thead>\n",
       "    <tr style=\"text-align: right;\">\n",
       "      <th></th>\n",
       "      <th>Name</th>\n",
       "      <th>Overall</th>\n",
       "      <th>Nationality</th>\n",
       "      <th>Club</th>\n",
       "      <th>Preferred Positions</th>\n",
       "      <th>Long shots</th>\n",
       "      <th>Finishing</th>\n",
       "      <th>Short passing</th>\n",
       "      <th>Ball control</th>\n",
       "      <th>Dribbling</th>\n",
       "      <th>Long passing</th>\n",
       "      <th>Interceptions</th>\n",
       "      <th>Marking</th>\n",
       "      <th>Standing tackle</th>\n",
       "      <th>Sliding tackle</th>\n",
       "      <th>Strength</th>\n",
       "      <th>Positioning</th>\n",
       "      <th>ATAQUE</th>\n",
       "      <th>DEFESA</th>\n",
       "    </tr>\n",
       "  </thead>\n",
       "  <tbody>\n",
       "    <tr>\n",
       "      <th>4849</th>\n",
       "      <td>C. Mavinga</td>\n",
       "      <td>71</td>\n",
       "      <td>DR Congo</td>\n",
       "      <td>Toronto FC</td>\n",
       "      <td>LB CB</td>\n",
       "      <td>32</td>\n",
       "      <td>36</td>\n",
       "      <td>75</td>\n",
       "      <td>71</td>\n",
       "      <td>67</td>\n",
       "      <td>67</td>\n",
       "      <td>68</td>\n",
       "      <td>65</td>\n",
       "      <td>68</td>\n",
       "      <td>68</td>\n",
       "      <td>77</td>\n",
       "      <td>30</td>\n",
       "      <td>54.000000</td>\n",
       "      <td>67.25</td>\n",
       "    </tr>\n",
       "    <tr>\n",
       "      <th>4255</th>\n",
       "      <td>D. Cools</td>\n",
       "      <td>71</td>\n",
       "      <td>Belgium</td>\n",
       "      <td>Club Brugge KV</td>\n",
       "      <td>RM RB LB</td>\n",
       "      <td>67</td>\n",
       "      <td>48</td>\n",
       "      <td>71</td>\n",
       "      <td>69</td>\n",
       "      <td>67</td>\n",
       "      <td>69</td>\n",
       "      <td>66</td>\n",
       "      <td>66</td>\n",
       "      <td>70</td>\n",
       "      <td>71</td>\n",
       "      <td>73</td>\n",
       "      <td>28</td>\n",
       "      <td>59.857143</td>\n",
       "      <td>68.25</td>\n",
       "    </tr>\n",
       "    <tr>\n",
       "      <th>4249</th>\n",
       "      <td>Seoane</td>\n",
       "      <td>71</td>\n",
       "      <td>Spain</td>\n",
       "      <td>CD Lugo</td>\n",
       "      <td>CDM</td>\n",
       "      <td>65</td>\n",
       "      <td>29</td>\n",
       "      <td>72</td>\n",
       "      <td>74</td>\n",
       "      <td>49</td>\n",
       "      <td>59</td>\n",
       "      <td>75</td>\n",
       "      <td>69</td>\n",
       "      <td>73</td>\n",
       "      <td>59</td>\n",
       "      <td>78</td>\n",
       "      <td>31</td>\n",
       "      <td>54.142857</td>\n",
       "      <td>69.00</td>\n",
       "    </tr>\n",
       "    <tr>\n",
       "      <th>4248</th>\n",
       "      <td>G. Belaud</td>\n",
       "      <td>71</td>\n",
       "      <td>France</td>\n",
       "      <td>Stade Brestois 29</td>\n",
       "      <td>RB</td>\n",
       "      <td>54</td>\n",
       "      <td>44</td>\n",
       "      <td>64</td>\n",
       "      <td>66</td>\n",
       "      <td>63</td>\n",
       "      <td>48</td>\n",
       "      <td>66</td>\n",
       "      <td>66</td>\n",
       "      <td>69</td>\n",
       "      <td>70</td>\n",
       "      <td>71</td>\n",
       "      <td>48</td>\n",
       "      <td>55.285714</td>\n",
       "      <td>67.75</td>\n",
       "    </tr>\n",
       "    <tr>\n",
       "      <th>4243</th>\n",
       "      <td>K. Diks</td>\n",
       "      <td>71</td>\n",
       "      <td>Netherlands</td>\n",
       "      <td>Feyenoord</td>\n",
       "      <td>RB</td>\n",
       "      <td>57</td>\n",
       "      <td>23</td>\n",
       "      <td>68</td>\n",
       "      <td>67</td>\n",
       "      <td>64</td>\n",
       "      <td>57</td>\n",
       "      <td>72</td>\n",
       "      <td>71</td>\n",
       "      <td>71</td>\n",
       "      <td>73</td>\n",
       "      <td>67</td>\n",
       "      <td>36</td>\n",
       "      <td>53.142857</td>\n",
       "      <td>71.75</td>\n",
       "    </tr>\n",
       "  </tbody>\n",
       "</table>\n",
       "</div>"
      ],
      "text/plain": [
       "            Name  Overall  Nationality               Club Preferred Positions  \\\n",
       "4849  C. Mavinga       71     DR Congo         Toronto FC              LB CB    \n",
       "4255    D. Cools       71      Belgium     Club Brugge KV           RM RB LB    \n",
       "4249      Seoane       71        Spain            CD Lugo                CDM    \n",
       "4248   G. Belaud       71       France  Stade Brestois 29                 RB    \n",
       "4243     K. Diks       71  Netherlands          Feyenoord                 RB    \n",
       "\n",
       "      Long shots  Finishing  Short passing  Ball control  Dribbling  \\\n",
       "4849          32         36             75            71         67   \n",
       "4255          67         48             71            69         67   \n",
       "4249          65         29             72            74         49   \n",
       "4248          54         44             64            66         63   \n",
       "4243          57         23             68            67         64   \n",
       "\n",
       "      Long passing  Interceptions  Marking  Standing tackle  Sliding tackle  \\\n",
       "4849            67             68       65               68              68   \n",
       "4255            69             66       66               70              71   \n",
       "4249            59             75       69               73              59   \n",
       "4248            48             66       66               69              70   \n",
       "4243            57             72       71               71              73   \n",
       "\n",
       "      Strength  Positioning     ATAQUE  DEFESA  \n",
       "4849        77           30  54.000000   67.25  \n",
       "4255        73           28  59.857143   68.25  \n",
       "4249        78           31  54.142857   69.00  \n",
       "4248        71           48  55.285714   67.75  \n",
       "4243        67           36  53.142857   71.75  "
      ]
     },
     "execution_count": 753,
     "metadata": {},
     "output_type": "execute_result"
    }
   ],
   "source": [
    "eu[(eu.ATAQUE>40)&(eu.ATAQUE<60)&(eu.DEFESA>50)&(eu.DEFESA<80)&(eu.Overall>70)&(eu['Preferred Positions']!='CB ')].sort_values(by='Overall').head()\n",
    "\n",
    "\n",
    "\n"
   ]
  },
  {
   "cell_type": "code",
   "execution_count": 754,
   "metadata": {
    "collapsed": true
   },
   "outputs": [],
   "source": [
    "F=[]\n",
    "for e in range(len(JoA)):\n",
    "    f=[]\n",
    "    f.append(JoD[e])\n",
    "    f.append(JoA[e])\n",
    "    \n",
    "    F.append(f)\n",
    "\n",
    "\n",
    "\n",
    "X=np.array(F)"
   ]
  },
  {
   "cell_type": "code",
   "execution_count": 755,
   "metadata": {
    "collapsed": true
   },
   "outputs": [],
   "source": [
    "km = KMeans(n_clusters=4)"
   ]
  },
  {
   "cell_type": "code",
   "execution_count": 756,
   "metadata": {},
   "outputs": [
    {
     "data": {
      "text/plain": [
       "KMeans(algorithm='auto', copy_x=True, init='k-means++', max_iter=300,\n",
       "    n_clusters=4, n_init=10, n_jobs=1, precompute_distances='auto',\n",
       "    random_state=None, tol=0.0001, verbose=0)"
      ]
     },
     "execution_count": 756,
     "metadata": {},
     "output_type": "execute_result"
    }
   ],
   "source": [
    "km.fit(X)"
   ]
  },
  {
   "cell_type": "code",
   "execution_count": 757,
   "metadata": {},
   "outputs": [],
   "source": [
    "C = km.cluster_centers_\n",
    "label = km.labels_\n",
    "colors=['r.','b.','g.','c.']"
   ]
  },
  {
   "cell_type": "code",
   "execution_count": 758,
   "metadata": {},
   "outputs": [
    {
     "name": "stdout",
     "output_type": "stream",
     "text": [
      "[[26.25, 88.285714285714292], [22.25, 90.714285714285708], [28.5, 85.142857142857139], [38.5, 84.571428571428569], [88.0, 62.571428571428569]]\n",
      "['Cristiano Ronaldo', 'L. Messi', 'Neymar', 'L. Suárez', 'J. Boateng']\n"
     ]
    }
   ],
   "source": [
    "T=[]\n",
    "L=[0,1,2,3,25]\n",
    "jn=[]\n",
    "ja=[]\n",
    "jd=[]\n",
    "for e in L:\n",
    "    jn.append(eu[\"Name\"][e])\n",
    "    ja.append(eu[\"ATAQUE\"][e])\n",
    "    jd.append(eu[\"DEFESA\"][e])\n",
    "    \n",
    "    \n",
    "for e in range(len(ja)):\n",
    "    t=[]\n",
    "    t.append(jd[e])\n",
    "    t.append(ja[e])\n",
    "    T.append(t)\n",
    "    \n",
    "print(T)\n",
    "print(jn)"
   ]
  },
  {
   "cell_type": "code",
   "execution_count": 763,
   "metadata": {},
   "outputs": [
    {
     "data": {
      "image/png": "[encoded data removed]",
      "text/plain": [
       "<matplotlib.figure.Figure at 0x11f53be10>"
      ]
     },
     "metadata": {},
     "output_type": "display_data"
    },
    {
     "name": "stdout",
     "output_type": "stream",
     "text": [
      "Cristiano Ronaldo - Vermelho\n",
      "L. Messi - purple\n",
      "Neymar - green\n",
      "L. Suárez - y\n",
      "J. Boateng - Vermelho\n"
     ]
    }
   ],
   "source": [
    "for l in np.unique(label):\n",
    "    plt.scatter(X[label == l, 0], X[label == l, 1],color=plt.cm.jet(float(l) / np.max(label + 1)),s=20, edgecolor='k')\n",
    "plt.scatter(T[0][0],T[0][1],c='r')\n",
    "plt.scatter(T[1][0],T[1][1],c='purple')\n",
    "plt.scatter(T[2][0],T[2][1],c='green')\n",
    "plt.scatter(T[3][0],T[3][1],c='y')\n",
    "plt.scatter(T[4][0],T[4][1],c='red')\n",
    "plt.xlabel('DEFESA')\n",
    "plt.ylabel('ATAQUE')\n",
    "plt.title('TIPO DE MEIAS')\n",
    "plt.show()\n",
    "\n",
    "print('{} - Vermelho'.format(jn[0]))\n",
    "print('{} - purple'.format(jn[1]))\n",
    "print('{} - green'.format(jn[2]))\n",
    "print('{} - y'.format(jn[3]))\n",
    "print('{} - Vermelho'.format(jn[4]))"
   ]
  },
  {
   "cell_type": "code",
   "execution_count": null,
   "metadata": {
    "collapsed": true
   },
   "outputs": [],
   "source": []
  },
  {
   "cell_type": "code",
   "execution_count": null,
   "metadata": {
    "collapsed": true
   },
   "outputs": [],
   "source": []
  },
  {
   "cell_type": "code",
   "execution_count": null,
   "metadata": {
    "collapsed": true
   },
   "outputs": [],
   "source": []
  }
 ],
 "metadata": {
  "kernelspec": {
   "display_name": "Python 3",
   "language": "python",
   "name": "python3"
  },
  "language_info": {
   "codemirror_mode": {
    "name": "ipython",
    "version": 3
   },
   "file_extension": ".py",
   "mimetype": "text/x-python",
   "name": "python",
   "nbconvert_exporter": "python",
   "pygments_lexer": "ipython3",
   "version": "3.6.0"
  }
 },
 "nbformat": 4,
 "nbformat_minor": 2
}
