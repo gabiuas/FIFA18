{
 "cells": [
  {
   "cell_type": "code",
   "execution_count": 1,
   "metadata": {},
   "outputs": [
    {
     "name": "stdout",
     "output_type": "stream",
     "text": [
      "Esperamos trabalhar no diretório\n",
      "/Users/gabiuas/Ciencia dos Dados/Projeto 3 Cidados\n"
     ]
    }
   ],
   "source": [
    "%matplotlib inline\n",
    "import pandas as pd\n",
    "import matplotlib.pyplot as plt\n",
    "import numpy as np\n",
    "import os\n",
    "import matplotlib.pyplot as plt\n",
    "import pandas as pd\n",
    "import numpy as np\n",
    "from scipy import stats\n",
    "import re\n",
    "print('Esperamos trabalhar no diretório')\n",
    "print(os.getcwd())"
   ]
  },
  {
   "cell_type": "code",
   "execution_count": 2,
   "metadata": {},
   "outputs": [
    {
     "name": "stderr",
     "output_type": "stream",
     "text": [
      "/Users/gabiuas/anaconda/lib/python3.6/site-packages/IPython/core/interactiveshell.py:2717: DtypeWarning: Columns (23,35) have mixed types. Specify dtype option on import or set low_memory=False.\n",
      "  interactivity=interactivity, compiler=compiler, result=result)\n",
      "/Users/gabiuas/anaconda/lib/python3.6/site-packages/IPython/core/interactiveshell.py:2717: DtypeWarning: Columns (11,24) have mixed types. Specify dtype option on import or set low_memory=False.\n",
      "  interactivity=interactivity, compiler=compiler, result=result)\n"
     ]
    }
   ],
   "source": [
    "#Complete\n",
    "complete = pd.read_csv('CompleteDataset.csv',sep=',')\n",
    "#Complete\n",
    "atribute = pd.read_csv('PlayerAttributeData.csv',sep=',')\n",
    "#Complete\n",
    "personal = pd.read_csv('PlayerPersonalData.csv',sep=',')\n",
    "#Complete\n",
    "position = pd.read_csv('PlayerPlayingPositionData.csv',sep=',')"
   ]
  },
  {
   "cell_type": "code",
   "execution_count": 3,
   "metadata": {},
   "outputs": [],
   "source": [
    "#list(complete)"
   ]
  },
  {
   "cell_type": "code",
   "execution_count": 4,
   "metadata": {
    "collapsed": true
   },
   "outputs": [],
   "source": [
    "eu= pd.DataFrame({\"Name\":complete.Name})"
   ]
  },
  {
   "cell_type": "code",
   "execution_count": 5,
   "metadata": {
    "collapsed": true
   },
   "outputs": [],
   "source": [
    "eu[\"Preferred Positions\"] = complete[\"Preferred Positions\"]\n",
    "eu[\"Long shots\"] = complete[\"Long shots\"]\n",
    "eu[\"Finishing\"] = complete[\"Finishing\"]\n",
    "eu[\"Short passing\"] = complete[\"Short passing\"]\n",
    "eu[\"Ball control\"] = complete[\"Ball control\"]\n",
    "eu[\"Dribbling\"] = complete[\"Dribbling\"]\n",
    "eu[\"Long passing\"] = complete[\"Long passing\"]\n",
    "eu[\"Interceptions\"] = complete[\"Interceptions\"]\n",
    "eu[\"Marking\"] = complete[\"Marking\"]\n",
    "eu[\"Standing tackle\"] = complete[\"Standing tackle\"]\n",
    "eu[\"Sliding tackle\"] = complete[\"Sliding tackle\"]"
   ]
  },
  {
   "cell_type": "code",
   "execution_count": 6,
   "metadata": {
    "collapsed": true
   },
   "outputs": [],
   "source": [
    "eu = eu.fillna(0)  "
   ]
  },
  {
   "cell_type": "code",
   "execution_count": 7,
   "metadata": {
    "collapsed": true
   },
   "outputs": [],
   "source": [
    "A=[]\n",
    "B=[]\n",
    "C=[]\n",
    "D=[]\n",
    "E=[]\n",
    "F=[]\n",
    "G=[]\n",
    "H=[]\n",
    "I=[]\n",
    "J=[]\n",
    "\n",
    "a=len(eu[\"Name\"])\n",
    "\n",
    "for e in range(a):\n",
    "    A.append((sum(int(x) for x in re.findall(r'[0-9]+', eu[\"Long shots\"][e]))))\n",
    "    B.append((sum(int(x) for x in re.findall(r'[0-9]+', eu[\"Finishing\"][e]))))\n",
    "    C.append((sum(int(x) for x in re.findall(r'[0-9]+', eu[\"Short passing\"][e]))))\n",
    "    D.append((sum(int(x) for x in re.findall(r'[0-9]+', eu[\"Ball control\"][e]))))\n",
    "    E.append((sum(int(x) for x in re.findall(r'[0-9]+', eu[\"Dribbling\"][e]))))\n",
    "    F.append((sum(int(x) for x in re.findall(r'[0-9]+', eu[\"Long passing\"][e]))))\n",
    "    G.append((sum(int(x) for x in re.findall(r'[0-9]+', eu[\"Interceptions\"][e]))))\n",
    "    H.append((sum(int(x) for x in re.findall(r'[0-9]+', eu[\"Marking\"][e]))))\n",
    "    I.append((sum(int(x) for x in re.findall(r'[0-9]+', eu[\"Standing tackle\"][e]))))\n",
    "    J.append((sum(int(x) for x in re.findall(r'[0-9]+', eu[\"Sliding tackle\"][e]))))\n",
    "    \n",
    "    \n",
    "eu[\"Long shots\"] = pd.Series(A)\n",
    "eu[\"Finishing\"] = pd.Series(B)\n",
    "eu[\"Short passing\"] = pd.Series(C)\n",
    "eu[\"Ball control\"] = pd.Series(D)\n",
    "eu[\"Dribbling\"] = pd.Series(E)\n",
    "eu[\"Long passing\"] = pd.Series(F)\n",
    "eu[\"Interceptions\"] = pd.Series(G)\n",
    "eu[\"Marking\"] = pd.Series(H)\n",
    "eu[\"Standing tackle\"] = pd.Series(I)\n",
    "eu[\"Sliding tackle\"] = pd.Series(J)"
   ]
  },
  {
   "cell_type": "code",
   "execution_count": 8,
   "metadata": {
    "collapsed": true
   },
   "outputs": [],
   "source": [
    "ataque=[]\n",
    "for e in range(a):\n",
    "    ataq=((eu[\"Long shots\"][e]+eu[\"Finishing\"][e]+eu[\"Short passing\"][e]+eu[\"Ball control\"][e]+eu[\"Dribbling\"][e]+eu[\"Long passing\"][e])/6)\n",
    "    ataque.append(ataq)\n"
   ]
  },
  {
   "cell_type": "code",
   "execution_count": 9,
   "metadata": {
    "collapsed": true
   },
   "outputs": [],
   "source": [
    "defesa=[]\n",
    "for e in range(a):\n",
    "    defe=((eu[\"Interceptions\"][e]+eu[\"Marking\"][e]+eu[\"Standing tackle\"][e]+eu[\"Sliding tackle\"][e])/4)\n",
    "    defesa.append(defe)\n"
   ]
  },
  {
   "cell_type": "code",
   "execution_count": 10,
   "metadata": {
    "collapsed": true
   },
   "outputs": [],
   "source": [
    "eu[\"ATAQUE\"] = pd.Series(ataque)\n",
    "eu[\"DEFESA\"] = pd.Series(defesa)"
   ]
  },
  {
   "cell_type": "code",
   "execution_count": 11,
   "metadata": {},
   "outputs": [],
   "source": [
    "JoA=[]\n",
    "JoD=[]\n",
    "\n",
    "for e in range(a):\n",
    "    if \"RAM\" in eu['Preferred Positions'][e]:\n",
    "        JoA.append(eu[\"ATAQUE\"][e])\n",
    "        JoD.append(eu[\"DEFESA\"][e])\n",
    "    if \"CAM\" in eu['Preferred Positions'][e]:\n",
    "        JoA.append(eu[\"ATAQUE\"][e])\n",
    "        JoD.append(eu[\"DEFESA\"][e])\n",
    "    if \"LAM\" in eu['Preferred Positions'][e]:\n",
    "        JoA.append(eu[\"ATAQUE\"][e])\n",
    "        JoD.append(eu[\"DEFESA\"][e])\n",
    "    if \"RCM\" in eu['Preferred Positions'][e]:\n",
    "        JoA.append(eu[\"ATAQUE\"][e])\n",
    "        JoD.append(eu[\"DEFESA\"][e])\n",
    "    if \"CM\" in eu['Preferred Positions'][e]:\n",
    "        JoA.append(eu[\"ATAQUE\"][e])\n",
    "        JoD.append(eu[\"DEFESA\"][e])\n",
    "    if \"LCM\" in eu['Preferred Positions'][e]:\n",
    "        JoA.append(eu[\"ATAQUE\"][e])\n",
    "        JoD.append(eu[\"DEFESA\"][e])\n",
    "    if \"RM\" in eu['Preferred Positions'][e]:\n",
    "        JoA.append(eu[\"ATAQUE\"][e])\n",
    "        JoD.append(eu[\"DEFESA\"][e])\n",
    "    if \"LM\" in eu['Preferred Positions'][e]:\n",
    "        JoA.append(eu[\"ATAQUE\"][e])\n",
    "        JoD.append(eu[\"DEFESA\"][e])\n",
    "    if \"RDM\" in eu['Preferred Positions'][e]:\n",
    "        JoA.append(eu[\"ATAQUE\"][e])\n",
    "        JoD.append(eu[\"DEFESA\"][e])\n",
    "    if \"CDM\" in eu['Preferred Positions'][e]:\n",
    "        JoA.append(eu[\"ATAQUE\"][e])\n",
    "        JoD.append(eu[\"DEFESA\"][e])\n",
    "    if \"LDM\" in eu['Preferred Positions'][e]:\n",
    "        JoA.append(eu[\"ATAQUE\"][e])\n",
    "        JoD.append(eu[\"DEFESA\"][e])"
   ]
  },
  {
   "cell_type": "code",
   "execution_count": 12,
   "metadata": {},
   "outputs": [],
   "source": [
    "from sklearn.cluster import KMeans"
   ]
  },
  {
   "cell_type": "code",
   "execution_count": 13,
   "metadata": {},
   "outputs": [],
   "source": [
    "X=list(zip(JoD, JoA))"
   ]
  },
  {
   "cell_type": "code",
   "execution_count": 14,
   "metadata": {},
   "outputs": [],
   "source": [
    "km = KMeans(n_clusters=3)"
   ]
  },
  {
   "cell_type": "code",
   "execution_count": 15,
   "metadata": {},
   "outputs": [
    {
     "data": {
      "text/plain": [
       "KMeans(algorithm='auto', copy_x=True, init='k-means++', max_iter=300,\n",
       "    n_clusters=3, n_init=10, n_jobs=1, precompute_distances='auto',\n",
       "    random_state=None, tol=0.0001, verbose=0)"
      ]
     },
     "execution_count": 15,
     "metadata": {},
     "output_type": "execute_result"
    }
   ],
   "source": [
    "km.fit(X)"
   ]
  },
  {
   "cell_type": "code",
   "execution_count": 16,
   "metadata": {},
   "outputs": [],
   "source": [
    "C = km.cluster_centers_\n",
    "La = km.labels_\n",
    "colors=['b.','r.','g.']"
   ]
  },
  {
   "cell_type": "code",
   "execution_count": null,
   "metadata": {},
   "outputs": [],
   "source": [
    "for e in range(len(X)):\n",
    "    plt.plot(X[e][0],X[e][1], colors[La[e]], markersize = 10)\n",
    "plt.scatter(C[0][0],C[0][1], c='black', marker='x', s=50, linewidths=5, zorder=10 )\n",
    "plt.scatter(C[1][0],C[1][1], c='black', marker='x', s=50, linewidths=5, zorder=10 )\n",
    "plt.scatter(C[2][0],C[2][1], c='black', marker='x', s=50, linewidths=5, zorder=10 )\n",
    "plt.show()"
   ]
  },
  {
   "cell_type": "code",
   "execution_count": null,
   "metadata": {
    "collapsed": true
   },
   "outputs": [],
   "source": []
  }
 ],
 "metadata": {
  "kernelspec": {
   "display_name": "Python 3",
   "language": "python",
   "name": "python3"
  },
  "language_info": {
   "codemirror_mode": {
    "name": "ipython",
    "version": 3
   },
   "file_extension": ".py",
   "mimetype": "text/x-python",
   "name": "python",
   "nbconvert_exporter": "python",
   "pygments_lexer": "ipython3",
   "version": "3.6.0"
  }
 },
 "nbformat": 4,
 "nbformat_minor": 2
}
